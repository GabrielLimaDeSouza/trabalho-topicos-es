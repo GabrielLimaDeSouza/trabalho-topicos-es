{
  "cells": [
    {
      "cell_type": "markdown",
      "source": [
        "## Importação de Bibliotecas e Preparação dos Dados\n",
        "\n",
        "Configura o ambiente, carrega os dados de transações de cartão de crédito e prepara as variáveis preditoras e a variável alvo."
      ],
      "metadata": {
        "id": "bxOTnJmcYaZ6"
      },
      "id": "bxOTnJmcYaZ6"
    },
    {
      "cell_type": "code",
      "execution_count": 20,
      "id": "41ff1b4e",
      "metadata": {
        "id": "41ff1b4e"
      },
      "outputs": [],
      "source": [
        "import pandas as pd\n",
        "from sklearn.ensemble import RandomForestClassifier\n",
        "from sklearn.model_selection import cross_val_score, train_test_split\n",
        "from sklearn.metrics import classification_report, confusion_matrix, accuracy_score\n",
        "import matplotlib.pyplot as plt\n",
        "import numpy as np\n",
        "\n",
        "# Carregar os dados\n",
        "file_path = './creditcard.csv'  # Caminho para o arquivo\n",
        "df = pd.read_csv(file_path)\n",
        "\n",
        "# Preparar os dados\n",
        "df = df.dropna(subset=['Class'])  # Remover entradas com valores NaN na coluna 'Class'\n",
        "X = df.drop(columns=['Class'])    # Variáveis preditoras\n",
        "y = df['Class']                   # Variável alvo"
      ]
    },
    {
      "cell_type": "markdown",
      "source": [
        "## Validação Cruzada com Random Forest\n",
        "\n",
        "Executa a validação cruzada k-fold para avaliar o desempenho do modelo Random Forest e exibe as acurácias obtidas em cada fold."
      ],
      "metadata": {
        "id": "nhA9NSUjYi1o"
      },
      "id": "nhA9NSUjYi1o"
    },
    {
      "cell_type": "code",
      "source": [
        "# Executar k-fold cross-validation com 5 folds\n",
        "model = RandomForestClassifier(n_estimators=100, random_state=42)\n",
        "scores = cross_val_score(model, X, y, cv=5, scoring='accuracy')\n",
        "\n",
        "# Resultados de cross-validation\n",
        "print(\"Scores de cada fold:\", scores)\n",
        "print(\"Acurácia média:\", np.mean(scores))"
      ],
      "metadata": {
        "id": "Oh3iF2l-XsXp"
      },
      "id": "Oh3iF2l-XsXp",
      "execution_count": null,
      "outputs": []
    },
    {
      "cell_type": "markdown",
      "source": [
        "## Treinamento e Avaliação do Modelo\n",
        "\n",
        "Divide os dados em conjuntos de treinamento e teste, treina o modelo com os dados de treinamento, faz previsões e avalia o desempenho no conjunto de teste usando a matriz de confusão e o relatório de classificação."
      ],
      "metadata": {
        "id": "eV3IymopYrZx"
      },
      "id": "eV3IymopYrZx"
    },
    {
      "cell_type": "code",
      "source": [
        "# Dividir os dados em conjuntos de treino e teste para visualizações e avaliações adicionais\n",
        "X_train, X_test, y_train, y_test = train_test_split(X, y, test_size=0.2, random_state=42, stratify=y)\n",
        "\n",
        "# Treinar o modelo nos dados de treino completos\n",
        "model.fit(X_train, y_train)\n",
        "\n",
        "# Fazer previsões no conjunto de teste\n",
        "y_pred = model.predict(X_test)\n",
        "\n",
        "# Avaliar o modelo com o conjunto de teste\n",
        "print(\"\\nMatriz de Confusão:\")\n",
        "print(confusion_matrix(y_test, y_pred))\n",
        "print(\"\\nRelatório de Classificação:\")\n",
        "print(classification_report(y_test, y_pred))\n",
        "\n",
        "# Calcular a acurácia para o conjunto de teste\n",
        "accuracy = accuracy_score(y_test, y_pred)\n",
        "print(f\"Acurácia no conjunto de teste: {accuracy:.4f}\")"
      ],
      "metadata": {
        "id": "9RtPCPCiXzKk"
      },
      "id": "9RtPCPCiXzKk",
      "execution_count": null,
      "outputs": []
    },
    {
      "cell_type": "markdown",
      "source": [
        "## Visualização dos Resultados\n",
        "\n",
        "Gera um gráfico de pizza para visualizar a distribuição das transações previstas como fraudulentas e não fraudulentas pelo modelo."
      ],
      "metadata": {
        "id": "Owjs7fQeYuwX"
      },
      "id": "Owjs7fQeYuwX"
    },
    {
      "cell_type": "code",
      "source": [
        "# Gráfico de pizza com os resultados das transações previstas pelo modelo\n",
        "predicted_counts = pd.Series(y_pred).value_counts().sort_index()\n",
        "predicted_labels = ['Não Fraudulenta', 'Fraudulenta']\n",
        "predicted_counts.plot(\n",
        "    kind='pie',\n",
        "    labels=[f\"{label}: {count}\" for label, count in zip(predicted_labels, predicted_counts)],\n",
        "    startangle=140,\n",
        "    colors=['skyblue', 'salmon'],\n",
        "    autopct='%1.1f%%'\n",
        ")\n",
        "plt.title('Distribuição das Transações Previstas (Fraudulenta vs Não Fraudulenta)')\n",
        "plt.ylabel('')\n",
        "plt.show()"
      ],
      "metadata": {
        "id": "Ne44u4h1X1RH"
      },
      "id": "Ne44u4h1X1RH",
      "execution_count": null,
      "outputs": []
    }
  ],
  "metadata": {
    "colab": {
      "provenance": []
    },
    "language_info": {
      "name": "python"
    },
    "kernelspec": {
      "name": "python3",
      "display_name": "Python 3"
    }
  },
  "nbformat": 4,
  "nbformat_minor": 5
}